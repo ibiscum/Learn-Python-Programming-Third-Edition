{
 "cells": [
  {
   "cell_type": "markdown",
   "metadata": {},
   "source": [
    "# Chapter 9 - Data Science\n",
    "## Data Manipulation"
   ]
  },
  {
   "cell_type": "markdown",
   "metadata": {},
   "source": [
    "## 0 - Setting up the notebook"
   ]
  },
  {
   "cell_type": "code",
   "execution_count": null,
   "metadata": {},
   "outputs": [],
   "source": [
    "import json\n",
    "\n",
    "import arrow\n",
    "import numpy as np\n",
    "import pandas as pd\n",
    "from pandas import DataFrame"
   ]
  },
  {
   "cell_type": "markdown",
   "metadata": {},
   "source": [
    "## 1- Loading Data into a DataFrame"
   ]
  },
  {
   "cell_type": "code",
   "execution_count": null,
   "metadata": {},
   "outputs": [],
   "source": [
    "# Load data from a json file into a DataFrame\n",
    "df = pd.read_json(\"data.json\")\n",
    "\n",
    "# let's take a peek at the first 5 rows, to make sure\n",
    "# nothing weird has happened\n",
    "df.head()"
   ]
  },
  {
   "cell_type": "code",
   "execution_count": null,
   "metadata": {},
   "outputs": [],
   "source": [
    "# OK! DataFrame is alive and well!\n",
    "# let's get a sense of how many rows there are and\n",
    "# what is their structure.\n",
    "df.count()"
   ]
  },
  {
   "cell_type": "code",
   "execution_count": null,
   "metadata": {},
   "outputs": [],
   "source": [
    "df.describe()"
   ]
  },
  {
   "cell_type": "code",
   "execution_count": null,
   "metadata": {},
   "outputs": [],
   "source": [
    "# let's see which are the top 3 campaigns according\n",
    "# to budget (regardless of the currency)\n",
    "df.sort_values(by=['cmp_bgt'], ascending=False).head(3)"
   ]
  },
  {
   "cell_type": "code",
   "execution_count": null,
   "metadata": {},
   "outputs": [],
   "source": [
    "# we can also use 'tail' to get the bottom 3 campaigns\n",
    "df.sort_values(by=['cmp_bgt'], ascending=False).tail(3)"
   ]
  },
  {
   "cell_type": "markdown",
   "metadata": {},
   "source": [
    "## 2 - Manipulating the DataFrame"
   ]
  },
  {
   "cell_type": "code",
   "execution_count": null,
   "metadata": {},
   "outputs": [],
   "source": [
    "# first, let's explode cmp_name into its components\n",
    "# and get a separate DataFrame for those\n",
    "\n",
    "def unpack_campaign_name(name):\n",
    "    # very optimistic method, assumes data in campaign name\n",
    "    # is always in good state\n",
    "    type_, start, end, age, gender, currency = name.split('_')\n",
    "    start = arrow.get(start, 'YYYYMMDD').date()\n",
    "    end = arrow.get(end, 'YYYYMMDD').date()\n",
    "    return type_, start, end, age, gender, currency\n",
    "\n",
    "campaign_data = df['cmp_name'].apply(unpack_campaign_name)\n",
    "campaign_cols = [\n",
    "    'Type', 'Start', 'End', 'Target Age', 'Target Gender',\n",
    "    'Currency']\n",
    "campaign_df = DataFrame(\n",
    "    campaign_data.tolist(), columns=campaign_cols, index=df.index)\n",
    "campaign_df.head(3)"
   ]
  },
  {
   "cell_type": "code",
   "execution_count": null,
   "metadata": {},
   "outputs": [],
   "source": [
    "# let's join the two dataframes\n",
    "df = df.join(campaign_df)"
   ]
  },
  {
   "cell_type": "code",
   "execution_count": null,
   "metadata": {},
   "outputs": [],
   "source": [
    "# and take a peek: good! It seems to be ok.\n",
    "df[['cmp_name'] + campaign_cols].head(3)"
   ]
  },
  {
   "cell_type": "code",
   "execution_count": null,
   "metadata": {},
   "outputs": [],
   "source": [
    "# now let's do the same for the JSON user object\n",
    "\n",
    "def unpack_user_json(user):\n",
    "    # very optimistic as well, expects user objects\n",
    "    # to have all attributes\n",
    "    user = json.loads(user.strip())\n",
    "    return [\n",
    "        user['username'],\n",
    "        user['email'],\n",
    "        user['name'],\n",
    "        user['gender'],\n",
    "        user['age'],\n",
    "        user['address'],\n",
    "    ]\n",
    "\n",
    "user_data = df['user'].apply(unpack_user_json)\n",
    "user_cols = [\n",
    "    'Username', 'Email', 'Name', 'Gender', 'Age', 'Address']\n",
    "user_df = DataFrame(\n",
    "    user_data.tolist(), columns=user_cols, index=df.index)"
   ]
  },
  {
   "cell_type": "code",
   "execution_count": null,
   "metadata": {},
   "outputs": [],
   "source": [
    "# let's join the two dataframes\n",
    "df = df.join(user_df)"
   ]
  },
  {
   "cell_type": "code",
   "execution_count": null,
   "metadata": {},
   "outputs": [],
   "source": [
    "# and take a peek: good! Still in good shape.\n",
    "df[['user'] + user_cols].head(2)"
   ]
  },
  {
   "cell_type": "code",
   "execution_count": null,
   "metadata": {},
   "outputs": [],
   "source": [
    "# now we have the DataFrame completely expanded, so it's\n",
    "# time to play with it. First, let's fix those ugly column names\n",
    "new_column_names = {\n",
    "    'cmp_bgt': 'Budget',\n",
    "    'cmp_spent': 'Spent',\n",
    "    'cmp_clicks': 'Clicks',\n",
    "    'cmp_impr': 'Impressions',\n",
    "}\n",
    "df.rename(columns=new_column_names, inplace=True)"
   ]
  },
  {
   "cell_type": "code",
   "execution_count": null,
   "metadata": {},
   "outputs": [],
   "source": [
    "# let's add three other columns\n",
    "\n",
    "def calculate_extra_columns(df):\n",
    "    # Click Through Rate\n",
    "    df['CTR'] = df['Clicks'] / df['Impressions']\n",
    "    # Cost Per Click\n",
    "    df['CPC'] = df['Spent'] / df['Clicks']\n",
    "    # Cost Per Impression\n",
    "    df['CPI'] = df['Spent'] / df['Impressions']\n",
    "    \n",
    "calculate_extra_columns(df)"
   ]
  },
  {
   "cell_type": "code",
   "execution_count": null,
   "metadata": {},
   "outputs": [],
   "source": [
    "# let's take a peek\n",
    "df[['Spent', 'Clicks', 'Impressions',\n",
    "    'CTR', 'CPC', 'CPI']].head(3)"
   ]
  },
  {
   "cell_type": "code",
   "execution_count": null,
   "metadata": {},
   "outputs": [],
   "source": [
    "# let's take the values of the first row and verify\n",
    "clicks = df['Clicks'][0]\n",
    "impressions = df['Impressions'][0]\n",
    "spent = df['Spent'][0]\n",
    "\n",
    "CTR = df['CTR'][0]\n",
    "CPC = df['CPC'][0]\n",
    "CPI = df['CPI'][0]\n",
    "\n",
    "print('CTR:', CTR, clicks / impressions)\n",
    "print('CPC:', CPC, spent / clicks)\n",
    "print('CPI:', CPI, spent / impressions)"
   ]
  },
  {
   "cell_type": "code",
   "execution_count": null,
   "metadata": {},
   "outputs": [],
   "source": [
    "# let's also add the name of the Day when campaign starts\n",
    "def get_day_of_the_week(day):\n",
    "    return day.strftime(\"%A\")\n",
    "\n",
    "def get_duration(row):\n",
    "    return (row['End'] - row['Start']).days\n",
    "\n",
    "df['Day of Week'] = df['Start'].apply(get_day_of_the_week)\n",
    "df['Duration'] = df.apply(get_duration, axis=1)"
   ]
  },
  {
   "cell_type": "code",
   "execution_count": null,
   "metadata": {},
   "outputs": [],
   "source": [
    "# let's verify\n",
    "df[['Start', 'End', 'Duration', 'Day of Week']].head(3)"
   ]
  },
  {
   "cell_type": "code",
   "execution_count": null,
   "metadata": {},
   "outputs": [],
   "source": [
    "# now let's get rid of the cmp_name and user columns,\n",
    "# which we don't need any more, and address too\n",
    "final_columns = [\n",
    "    'Type', 'Start', 'End', 'Duration', 'Day of Week', 'Budget',\n",
    "    'Currency', 'Clicks', 'Impressions', 'Spent', 'CTR', 'CPC',\n",
    "    'CPI', 'Target Age', 'Target Gender', 'Username', 'Email',\n",
    "    'Name', 'Gender', 'Age'\n",
    "]\n",
    "df = df[final_columns]"
   ]
  },
  {
   "cell_type": "markdown",
   "metadata": {},
   "source": [
    "## 3 - Saving to a file in different formats"
   ]
  },
  {
   "cell_type": "code",
   "execution_count": null,
   "metadata": {},
   "outputs": [],
   "source": [
    "# CSV format\n",
    "df.to_csv('df.csv')"
   ]
  },
  {
   "cell_type": "code",
   "execution_count": null,
   "metadata": {},
   "outputs": [],
   "source": [
    "# JSON format\n",
    "df.to_json('df.json')"
   ]
  },
  {
   "cell_type": "code",
   "execution_count": null,
   "metadata": {},
   "outputs": [],
   "source": [
    "# Spreadsheet format\n",
    "df.to_excel('df.xlsx')"
   ]
  },
  {
   "cell_type": "markdown",
   "metadata": {},
   "source": [
    "## 4 - Visualizing results"
   ]
  },
  {
   "cell_type": "markdown",
   "metadata": {},
   "source": [
    "First let's take care of the graphics, we configure the `matplotlib` plot stle and set the font family to `serif`."
   ]
  },
  {
   "cell_type": "code",
   "execution_count": null,
   "metadata": {},
   "outputs": [],
   "source": [
    "%matplotlib inline"
   ]
  },
  {
   "cell_type": "code",
   "execution_count": null,
   "metadata": {},
   "outputs": [],
   "source": [
    "# make the graphs nicer\n",
    "import matplotlib.pyplot as plt\n",
    "plt.style.use(['classic', 'ggplot'])\n",
    "# see all available with: print(plt.style.available)\n",
    "plt.rc('font', family='serif')"
   ]
  },
  {
   "cell_type": "code",
   "execution_count": null,
   "metadata": {},
   "outputs": [],
   "source": [
    "df.describe()"
   ]
  },
  {
   "cell_type": "code",
   "execution_count": null,
   "metadata": {},
   "outputs": [],
   "source": [
    "df[['Budget', 'Spent', 'Clicks', 'Impressions']].hist(\n",
    "    bins=16, figsize=(16, 6));"
   ]
  },
  {
   "cell_type": "code",
   "execution_count": null,
   "metadata": {},
   "outputs": [],
   "source": [
    "df[['CTR', 'CPC', 'CPI']].hist(\n",
    "    bins=20, figsize=(16, 6));"
   ]
  },
  {
   "cell_type": "code",
   "execution_count": null,
   "metadata": {},
   "outputs": [],
   "source": [
    "# let's see the campaigns whose spent is > than 75% of the budget\n",
    "selector = (df.Spent > df.Budget * .75)\n",
    "df[selector][['Budget', 'Spent', 'Clicks', 'Impressions']].hist(\n",
    "    bins=15, figsize=(16, 6), color='green');"
   ]
  },
  {
   "cell_type": "code",
   "execution_count": null,
   "metadata": {
    "tags": []
   },
   "outputs": [],
   "source": [
    "# Let's aggregate by Day of the Week\n",
    "df_weekday = df.groupby(['Day of Week']).sum()\n",
    "df_weekday[['Impressions', 'Spent', 'Clicks']].plot(\n",
    "    figsize=(16, 6), subplots=True);"
   ]
  },
  {
   "cell_type": "code",
   "execution_count": null,
   "metadata": {},
   "outputs": [],
   "source": [
    "# Let's aggregate by gender and age\n",
    "agg_config = {\n",
    "    'Impressions': ['mean', 'std'],\n",
    "    'Spent': ['mean', 'std'],\n",
    "}\n",
    "\n",
    "df.groupby(['Target Gender', 'Target Age']).agg(agg_config)"
   ]
  },
  {
   "cell_type": "code",
   "execution_count": null,
   "metadata": {
    "tags": []
   },
   "outputs": [],
   "source": [
    "# finally, let's make a pivot table\n",
    "df.pivot_table(\n",
    "    values=['Impressions', 'Clicks', 'Spent'],\n",
    "    index=['Target Age'],\n",
    "    columns=['Target Gender'],\n",
    "    aggfunc=np.sum\n",
    ")"
   ]
  }
 ],
 "metadata": {
  "kernelspec": {
   "display_name": "Python 3 (ipykernel)",
   "language": "python",
   "name": "python3"
  },
  "language_info": {
   "codemirror_mode": {
    "name": "ipython",
    "version": 3
   },
   "file_extension": ".py",
   "mimetype": "text/x-python",
   "name": "python",
   "nbconvert_exporter": "python",
   "pygments_lexer": "ipython3",
   "version": "3.11.2"
  },
  "toc-autonumbering": false,
  "toc-showcode": false,
  "toc-showmarkdowntxt": true
 },
 "nbformat": 4,
 "nbformat_minor": 4
}
