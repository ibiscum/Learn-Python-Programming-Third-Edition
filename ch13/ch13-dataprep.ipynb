{
 "cells": [
  {
   "cell_type": "markdown",
   "metadata": {},
   "source": [
    "# Chapter 9 - Data Science\n",
    "## Data Preparation"
   ]
  },
  {
   "cell_type": "markdown",
   "metadata": {},
   "source": [
    "## 0 - Setting up the notebook"
   ]
  },
  {
   "cell_type": "code",
   "execution_count": 6,
   "metadata": {},
   "outputs": [],
   "source": [
    "import json\n",
    "import random\n",
    "from datetime import date, timedelta\n",
    "\n",
    "import faker"
   ]
  },
  {
   "cell_type": "markdown",
   "metadata": {},
   "source": [
    "## 1 - Preparing the Data"
   ]
  },
  {
   "cell_type": "code",
   "execution_count": 7,
   "metadata": {},
   "outputs": [],
   "source": [
    "# create the faker to populate the data\n",
    "fake = faker.Faker()"
   ]
  },
  {
   "cell_type": "code",
   "execution_count": 8,
   "metadata": {},
   "outputs": [],
   "source": [
    "usernames = set()\n",
    "usernames_no = 1000\n",
    "\n",
    "# populate the set with 1000 unique usernames\n",
    "while len(usernames) < usernames_no:\n",
    "    usernames.add(fake.user_name())"
   ]
  },
  {
   "cell_type": "code",
   "execution_count": 9,
   "metadata": {},
   "outputs": [
    {
     "data": {
      "text/plain": [
       "['{\"username\": \"tracie73\", \"name\": \"David Maxwell\", \"gender\": \"M\", \"email\": \"rodriguezbobby@example.net\", \"age\": 41, \"address\": \"414 Arnold Street\\\\nRoyberg, IL 80169\"}',\n",
       " '{\"username\": \"anna27\", \"name\": \"Colleen Peterson MD\", \"gender\": \"F\", \"email\": \"brandon94@example.com\", \"age\": 86, \"address\": \"29760 Chad Summit\\\\nWest Davidstad, PR 44505\"}',\n",
       " '{\"username\": \"joshuamartin\", \"name\": \"Andrew Price\", \"gender\": \"M\", \"email\": \"sean59@example.com\", \"age\": 83, \"address\": \"845 Wiggins Greens\\\\nMandyview, ND 30513\"}']"
      ]
     },
     "execution_count": 9,
     "metadata": {},
     "output_type": "execute_result"
    }
   ],
   "source": [
    "def get_random_name_and_gender():\n",
    "    skew = .6  # 60% of users will be female\n",
    "    male = random.random() > skew\n",
    "    if male:\n",
    "        return fake.name_male(), 'M'\n",
    "    else:\n",
    "        return fake.name_female(), 'F'\n",
    "\n",
    "# for each username, create a complete user profile\n",
    "# simulate user data coming from an API. It is a list\n",
    "# of JSON strings (users).\n",
    "def get_users(usernames):\n",
    "    users = []\n",
    "    for username in usernames:\n",
    "        name, gender = get_random_name_and_gender()\n",
    "        user = {\n",
    "            'username': username,\n",
    "            'name': name,\n",
    "            'gender': gender,\n",
    "            'email': fake.email(),\n",
    "            'age': fake.random_int(min=18, max=90),\n",
    "            'address': fake.address(),\n",
    "        }\n",
    "        users.append(json.dumps(user))\n",
    "    return users\n",
    "\n",
    "users = get_users(usernames)\n",
    "users[:3]"
   ]
  },
  {
   "cell_type": "code",
   "execution_count": 10,
   "metadata": {},
   "outputs": [],
   "source": [
    "# campaign name format:\n",
    "# InternalType_StartDate_EndDate_TargetAge_TargetGender_Currency\n",
    "def get_type():\n",
    "    # just some gibberish internal codes\n",
    "    types = ['AKX', 'BYU', 'GRZ', 'KTR']\n",
    "    return random.choice(types)\n",
    "\n",
    "def get_start_end_dates():\n",
    "    duration = random.randint(1, 2 * 365)\n",
    "    offset = random.randint(-365, 365)\n",
    "    start = date.today() - timedelta(days=offset)\n",
    "    end = start + timedelta(days=duration)\n",
    "    \n",
    "    def _format_date(date_):\n",
    "        return date_.strftime(\"%Y%m%d\")\n",
    "    \n",
    "    return _format_date(start), _format_date(end)\n",
    "\n",
    "def get_age():\n",
    "    age = random.randrange(20, 46, 5)\n",
    "    diff = random.randrange(5, 26, 5)\n",
    "    return '{}-{}'.format(age, age + diff)\n",
    "\n",
    "def get_gender():\n",
    "    return random.choice(('M', 'F', 'B'))\n",
    "\n",
    "def get_currency():\n",
    "    return random.choice(('GBP', 'EUR', 'USD'))\n",
    "\n",
    "def get_campaign_name():\n",
    "    separator = '_'\n",
    "    type_ = get_type()\n",
    "    start, end = get_start_end_dates()\n",
    "    age = get_age()\n",
    "    gender = get_gender()\n",
    "    currency = get_currency()\n",
    "    return separator.join(\n",
    "        (type_, start, end, age, gender, currency))"
   ]
  },
  {
   "cell_type": "code",
   "execution_count": 11,
   "metadata": {},
   "outputs": [],
   "source": [
    "# campaign data:\n",
    "# name, budget, spent, clicks, impressions\n",
    "def get_campaign_data():\n",
    "    name = get_campaign_name()\n",
    "    budget = random.randint(10**3, 10**6)\n",
    "    spent = random.randint(10**2, budget)    \n",
    "    clicks = int(random.triangular(10**2, 10**5, 0.2 * 10**5))    \n",
    "    impressions = int(random.gauss(0.5 * 10**6, 2))\n",
    "    return {\n",
    "        'cmp_name': name,\n",
    "        'cmp_bgt': budget,\n",
    "        'cmp_spent': spent,\n",
    "        'cmp_clicks': clicks,\n",
    "        'cmp_impr': impressions\n",
    "    }"
   ]
  },
  {
   "cell_type": "code",
   "execution_count": 12,
   "metadata": {},
   "outputs": [],
   "source": [
    "# assemble the logic to get the final version of the rough data\n",
    "# data will be a list of dictionaries. Each dictionary will follow\n",
    "# this structure:\n",
    "# {'user': user_json, 'campaigns': [c1, c2, ...]}\n",
    "# where user_json is the JSON string version of a user data dict\n",
    "# and c1, c2, ... are campaign dicts as returned by\n",
    "# get_campaign_data\n",
    "\n",
    "def get_data(users):\n",
    "    data = []\n",
    "    for user in users:\n",
    "        campaigns = [get_campaign_data()\n",
    "                     for _ in range(random.randint(2, 8))]\n",
    "        data.append({'user': user, 'campaigns': campaigns})\n",
    "    return data"
   ]
  },
  {
   "cell_type": "markdown",
   "metadata": {},
   "source": [
    "## 2 - Cleaning the data"
   ]
  },
  {
   "cell_type": "code",
   "execution_count": 13,
   "metadata": {},
   "outputs": [
    {
     "data": {
      "text/plain": [
       "[{'user': '{\"username\": \"tracie73\", \"name\": \"David Maxwell\", \"gender\": \"M\", \"email\": \"rodriguezbobby@example.net\", \"age\": 41, \"address\": \"414 Arnold Street\\\\nRoyberg, IL 80169\"}',\n",
       "  'campaigns': [{'cmp_name': 'KTR_20240725_20250515_45-50_F_EUR',\n",
       "    'cmp_bgt': 178525,\n",
       "    'cmp_spent': 116926,\n",
       "    'cmp_clicks': 43985,\n",
       "    'cmp_impr': 499998},\n",
       "   {'cmp_name': 'GRZ_20240325_20250718_30-40_F_GBP',\n",
       "    'cmp_bgt': 897803,\n",
       "    'cmp_spent': 745120,\n",
       "    'cmp_clicks': 87866,\n",
       "    'cmp_impr': 500000},\n",
       "   {'cmp_name': 'BYU_20230621_20231001_25-30_M_GBP',\n",
       "    'cmp_bgt': 435973,\n",
       "    'cmp_spent': 76953,\n",
       "    'cmp_clicks': 39710,\n",
       "    'cmp_impr': 500002}]},\n",
       " {'user': '{\"username\": \"anna27\", \"name\": \"Colleen Peterson MD\", \"gender\": \"F\", \"email\": \"brandon94@example.com\", \"age\": 86, \"address\": \"29760 Chad Summit\\\\nWest Davidstad, PR 44505\"}',\n",
       "  'campaigns': [{'cmp_name': 'AKX_20231224_20240209_45-50_B_GBP',\n",
       "    'cmp_bgt': 604350,\n",
       "    'cmp_spent': 40386,\n",
       "    'cmp_clicks': 83080,\n",
       "    'cmp_impr': 499999},\n",
       "   {'cmp_name': 'AKX_20230910_20240312_25-40_M_GBP',\n",
       "    'cmp_bgt': 207699,\n",
       "    'cmp_spent': 92627,\n",
       "    'cmp_clicks': 35848,\n",
       "    'cmp_impr': 500001}]}]"
      ]
     },
     "execution_count": 13,
     "metadata": {},
     "output_type": "execute_result"
    }
   ],
   "source": [
    "# fetch simulated rough data\n",
    "rough_data = get_data(users)\n",
    "\n",
    "rough_data[:2]  # let's take a peek"
   ]
  },
  {
   "cell_type": "code",
   "execution_count": 14,
   "metadata": {},
   "outputs": [
    {
     "data": {
      "text/plain": [
       "[{'cmp_name': 'KTR_20240725_20250515_45-50_F_EUR',\n",
       "  'cmp_bgt': 178525,\n",
       "  'cmp_spent': 116926,\n",
       "  'cmp_clicks': 43985,\n",
       "  'cmp_impr': 499998,\n",
       "  'user': '{\"username\": \"tracie73\", \"name\": \"David Maxwell\", \"gender\": \"M\", \"email\": \"rodriguezbobby@example.net\", \"age\": 41, \"address\": \"414 Arnold Street\\\\nRoyberg, IL 80169\"}'},\n",
       " {'cmp_name': 'GRZ_20240325_20250718_30-40_F_GBP',\n",
       "  'cmp_bgt': 897803,\n",
       "  'cmp_spent': 745120,\n",
       "  'cmp_clicks': 87866,\n",
       "  'cmp_impr': 500000,\n",
       "  'user': '{\"username\": \"tracie73\", \"name\": \"David Maxwell\", \"gender\": \"M\", \"email\": \"rodriguezbobby@example.net\", \"age\": 41, \"address\": \"414 Arnold Street\\\\nRoyberg, IL 80169\"}'}]"
      ]
     },
     "execution_count": 14,
     "metadata": {},
     "output_type": "execute_result"
    }
   ],
   "source": [
    "# Let's start from having a different version of the data\n",
    "# I want a list whose items will be dicts. Each dict is \n",
    "# the original campaign dict plus the user JSON\n",
    "\n",
    "data = []\n",
    "for datum in rough_data:\n",
    "    for campaign in datum['campaigns']:\n",
    "        campaign.update({'user': datum['user']})\n",
    "        data.append(campaign)\n",
    "data[:2]  # let's take another peek"
   ]
  },
  {
   "cell_type": "code",
   "execution_count": 15,
   "metadata": {},
   "outputs": [],
   "source": [
    "# Warning: Uncommenting and executing this cell will overwrite data.json\n",
    "#with open('data.json', 'w') as stream:\n",
    "#     stream.write(json.dumps(data))"
   ]
  }
 ],
 "metadata": {
  "kernelspec": {
   "display_name": "Python 3 (ipykernel)",
   "language": "python",
   "name": "python3"
  },
  "language_info": {
   "codemirror_mode": {
    "name": "ipython",
    "version": 3
   },
   "file_extension": ".py",
   "mimetype": "text/x-python",
   "name": "python",
   "nbconvert_exporter": "python",
   "pygments_lexer": "ipython3",
   "version": "3.11.2"
  }
 },
 "nbformat": 4,
 "nbformat_minor": 4
}
